{
 "cells": [
  {
   "cell_type": "code",
   "execution_count": 2,
   "metadata": {},
   "outputs": [],
   "source": [
    "#pip install langchain_openai"
   ]
  },
  {
   "cell_type": "code",
   "execution_count": 3,
   "metadata": {},
   "outputs": [],
   "source": [
    "import os\n",
    "from langchain_openai import ChatOpenAI\n",
    "from langchain.prompts import PromptTemplate\n",
    "from langchain.output_parsers import PydanticOutputParser\n",
    "from langchain.chains import LLMChain\n",
    "from langchain.output_parsers import StructuredOutputParser, ResponseSchema\n",
    "from langchain.schema import Document\n",
    "from langchain.schema.runnable import RunnablePassthrough, RunnableBranch\n",
    "from typing import Literal, List, Dict, Any\n",
    "from pydantic import BaseModel, Field\n",
    "\n",
    "from langchain_core.runnables import RunnableBranch\n",
    "from langchain_core.prompts import PromptTemplate\n",
    "\n",
    "\n",
    "# Initialize LLM\n",
    "llm = ChatOpenAI(temperature=0, model_name=\"gpt-4o\")\n"
   ]
  },
  {
   "cell_type": "code",
   "execution_count": 4,
   "metadata": {},
   "outputs": [
    {
     "data": {
      "text/plain": [
       "True"
      ]
     },
     "execution_count": 4,
     "metadata": {},
     "output_type": "execute_result"
    }
   ],
   "source": [
    "from dotenv import load_dotenv\n",
    "load_dotenv()"
   ]
  },
  {
   "cell_type": "markdown",
   "metadata": {},
   "source": [
    "# Sentiment classification"
   ]
  },
  {
   "cell_type": "code",
   "execution_count": null,
   "metadata": {},
   "outputs": [],
   "source": [
    "from langchain_core.output_parsers import JsonOutputParser\n",
    "\n",
    "# Define the sentiment analysis response format\n",
    "sentiment_parser = JsonOutputParser()\n",
    "\n",
    "# Sentiment analysis prompt\n",
    "##TODO: Write prompt, which takes customer review and returns sentiment analysis in the following format\n",
    "## {\"positive_sentiment\": bool, \"reasoning\": string}\n",
    "\n",
    "sentiment_prompt = PromptTemplate(\n",
    "    template=\"\"\"You are a sentiment analysis expert. \n",
    "Review the following customer review and determine if it's positive or negative.\n",
    "\n",
    "Review: ```{review}```\n",
    "\n",
    "Return answer as a valid json object with the following format:\n",
    "{{\"positive_sentiment\": boolean, \"reasoning\": string}}\n",
    "\"\"\",\n",
    "    input_variables=[\"review\"]\n",
    ")\n",
    "\n",
    "# Create sentiment analysis chain - use proper configuration to get direct output\n",
    "sentiment_chain = sentiment_prompt | llm | sentiment_parser\n"
   ]
  },
  {
   "cell_type": "code",
   "execution_count": 9,
   "metadata": {},
   "outputs": [
    {
     "name": "stdout",
     "output_type": "stream",
     "text": [
      "Is Positive? True\n",
      "Reasoning: The review uses positive language such as 'outstanding' and 'delicious' to describe the service and food, respectively. Additionally, the reviewer expresses a desire to return, indicating a positive experience overall.\n"
     ]
    }
   ],
   "source": [
    "# Test the sentiment analysis chain with examples\n",
    "# Example 1: Positive review\n",
    "positive_test = \"The service was outstanding and the food was delicious. I'll definitely come back!\"\n",
    "\n",
    "##TODO: invoke sentiment chain with positive review, evaluate if it is positive and print the result\n",
    "positive_sentiment = sentiment_chain.invoke({\"review\": positive_test})\n",
    "\n",
    "print(f\"Is Positive? {positive_sentiment['positive_sentiment']}\")\n",
    "print(f\"Reasoning: {positive_sentiment['reasoning']}\")\n",
    "\n"
   ]
  },
  {
   "cell_type": "code",
   "execution_count": 10,
   "metadata": {},
   "outputs": [
    {
     "data": {
      "text/plain": [
       "{'positive_sentiment': True,\n",
       " 'reasoning': \"The review uses positive language such as 'outstanding' and 'delicious' to describe the service and food, respectively. Additionally, the reviewer expresses a desire to return, indicating a positive experience overall.\"}"
      ]
     },
     "execution_count": 10,
     "metadata": {},
     "output_type": "execute_result"
    }
   ],
   "source": [
    "positive_sentiment"
   ]
  },
  {
   "cell_type": "code",
   "execution_count": 11,
   "metadata": {},
   "outputs": [
    {
     "name": "stdout",
     "output_type": "stream",
     "text": [
      "Is Positive? False\n",
      "Reasoning: The review expresses dissatisfaction with the experience, mentioning a long wait time, rude staff, and cold food, all of which contribute to a negative sentiment.\n"
     ]
    }
   ],
   "source": [
    "\n",
    "\n",
    "negative_test = \"The wait was too long and the staff was rude. The food was cold when it arrived.\"\n",
    "negative_sentiment = sentiment_chain.invoke({\"review\": negative_test})\n",
    "\n",
    "print(f\"Is Positive? {negative_sentiment['positive_sentiment']}\")\n",
    "print(f\"Reasoning: {negative_sentiment['reasoning']}\")\n"
   ]
  },
  {
   "cell_type": "markdown",
   "metadata": {},
   "source": [
    "# Routing negative and positive reviews"
   ]
  },
  {
   "cell_type": "markdown",
   "metadata": {},
   "source": [
    "\n",
    "## Positive review handling"
   ]
  },
  {
   "cell_type": "code",
   "execution_count": 12,
   "metadata": {},
   "outputs": [],
   "source": [
    "from langchain_core.output_parsers import StrOutputParser, JsonOutputParser\n",
    "\n",
    "##TODO: prepare prompt for positive review handling, it should take the following steps:\n",
    "#1. Thank user for their positive feedback\n",
    "#2. Offers a voucher related to the thing they liked\n",
    "#3. Encourage user to visit again\n",
    "#Output should be a json with the following format {\"message\": str}\n",
    "\n",
    "positive_prompt = PromptTemplate(\n",
    "    template=\"\"\"You are a customer service representative for a company.\n",
    "A customer has left a positive review about our products or services.\n",
    "\n",
    "Customer Review: {review}\n",
    "\n",
    "Based on the review, identify what they specifically liked and create a personalized, short response message that:\n",
    "1. Thanks them for their positive feedback\n",
    "2. Offers a voucher related to the thing they liked\n",
    "3. Encourages them to visit again\n",
    "\n",
    "Return your response as a valid JSON object with the following format:\n",
    "{{\"message\": str}}\n",
    "\n",
    "Make sure to add appropriate newline after approximately every 80 characters for better readability.\n",
    "\n",
    "\"\"\",\n",
    "    input_variables=[\"review\"]\n",
    ")\n",
    "\n",
    "# Use JsonOutputParser to get properly formatted JSON output\n",
    "positive_chain = positive_prompt | llm | JsonOutputParser()\n"
   ]
  },
  {
   "cell_type": "code",
   "execution_count": 13,
   "metadata": {},
   "outputs": [
    {
     "name": "stdout",
     "output_type": "stream",
     "text": [
      "Dear Customer,\n",
      "\n",
      "Thank you so much for your wonderful feedback! We're thrilled to hear that you\n",
      "found our service outstanding and enjoyed our delicious food. As a token of our\n",
      "appreciation, we'd like to offer you a voucher for a complimentary dessert on\n",
      "your next visit.\n",
      "\n",
      "We look forward to welcoming you back soon!\n",
      "\n",
      "Best regards,\n",
      "The Team\n"
     ]
    }
   ],
   "source": [
    "positive_message = positive_chain.invoke({\"review\": positive_test})\n",
    "print(positive_message[\"message\"])"
   ]
  },
  {
   "cell_type": "markdown",
   "metadata": {},
   "source": [
    "## Negative review handling"
   ]
  },
  {
   "cell_type": "code",
   "execution_count": 15,
   "metadata": {},
   "outputs": [],
   "source": [
    "\n",
    "negative_prompt = PromptTemplate(\n",
    "    template=\"\"\"You are a customer service representative for a company.\n",
    "A customer has left a negative review about our products or services.\n",
    "\n",
    "Customer Review: {review}\n",
    "\n",
    "Based on the review, identify what they specifically disliked and create a personalized response that:\n",
    "1. Apologizes for their negative experience\n",
    "2. Addresses the specific issue they mentioned\n",
    "3. Explains how you'll mitigate this issue in the future\n",
    "4. Offers a 25% discount on their next visit\n",
    "5. Thanks them for their feedback\n",
    "\n",
    "\n",
    "Return your response as a valid JSON object with the following format:\n",
    "{{\"message\": str}}\n",
    "\n",
    "Make sure to add appropriate newline after approximately every 80 characters for better readability.\n",
    "\"\"\",\n",
    "    input_variables=[\"review\"]\n",
    ")\n",
    "\n",
    "negative_chain = negative_prompt | llm | JsonOutputParser()"
   ]
  },
  {
   "cell_type": "code",
   "execution_count": 16,
   "metadata": {},
   "outputs": [
    {
     "name": "stdout",
     "output_type": "stream",
     "text": [
      "Dear Valued Customer,\n",
      "\n",
      "We sincerely apologize for the negative experience you had during your\n",
      "recent visit. We understand that the long wait time, the rudeness of our\n",
      "staff, and receiving cold food are unacceptable and not reflective of the\n",
      "standards we strive to maintain.\n",
      "\n",
      "To address these issues, we are actively working on improving our service\n",
      "speed and providing additional training to our staff to ensure that all\n",
      "customers are treated with the utmost respect and courtesy. We are also\n",
      "reviewing our food preparation and delivery processes to ensure that all\n",
      "meals are served hot and fresh.\n",
      "\n",
      "As a token of our apology, we would like to offer you a 25% discount on\n",
      "your next visit. We hope this will give us the opportunity to provide you\n",
      "with the quality experience you deserve.\n",
      "\n",
      "Thank you for your feedback, as it helps us improve our services. We look\n",
      "forward to welcoming you back soon.\n",
      "\n",
      "Warm regards,\n",
      "\n",
      "[Your Company Name] Customer Service Team\n"
     ]
    }
   ],
   "source": [
    "negative_message = negative_chain.invoke({\"review\": negative_test})\n",
    "print(negative_message[\"message\"])"
   ]
  },
  {
   "cell_type": "markdown",
   "metadata": {},
   "source": [
    "## Combine chains"
   ]
  },
  {
   "cell_type": "code",
   "execution_count": 17,
   "metadata": {},
   "outputs": [],
   "source": [
    "# Create the branching logic with RunnablePassthrough directly in the chain\n",
    "##TODO Use RunnableBranch to create a chain that will invoke the sentiment analysis first and then based on the result,\n",
    "# invoke either the positive or negative response chain.\n",
    "\n",
    "full_chain = (\n",
    "    RunnablePassthrough.assign(\n",
    "        sentiment_result=sentiment_chain\n",
    "    ) \n",
    "    | RunnableBranch(\n",
    "        (\n",
    "            lambda x: x[\"sentiment_result\"][\"positive_sentiment\"], \n",
    "            {\n",
    "                \"review\": lambda x: x[\"review\"],\n",
    "            } | positive_chain\n",
    "        ),\n",
    "        (\n",
    "            lambda x: not x[\"sentiment_result\"][\"positive_sentiment\"],\n",
    "            {\n",
    "                \"review\": lambda x: x[\"review\"],\n",
    "            } | negative_chain\n",
    "        ),\n",
    "        # Default fallback\n",
    "        lambda x: {\"message\": f\"Error: Unable to determine sentiment for: {x['review']}\"}\n",
    "    )\n",
    ")\n"
   ]
  },
  {
   "cell_type": "code",
   "execution_count": 20,
   "metadata": {},
   "outputs": [],
   "source": [
    "## Validate if output of full_chain is what we expect -> 25% discount for negative, voucher for positive"
   ]
  },
  {
   "cell_type": "code",
   "execution_count": 18,
   "metadata": {},
   "outputs": [
    {
     "name": "stdout",
     "output_type": "stream",
     "text": [
      "Dear Valued Customer,\n",
      "\n",
      "We sincerely apologize for the negative experience you had during your\n",
      "recent visit. We understand that the long wait time, the rudeness of our\n",
      "staff, and the cold food were disappointing and not up to the standards\n",
      "we strive to maintain.\n",
      "\n",
      "To address these issues, we are actively working on improving our\n",
      "service efficiency and providing additional training to our staff to\n",
      "ensure a more pleasant and timely experience for all our customers. We\n",
      "are also reviewing our food preparation processes to ensure that meals\n",
      "are served hot and fresh.\n",
      "\n",
      "As a token of our apology, we would like to offer you a 25% discount on\n",
      "your next visit. We hope this will give us the opportunity to provide\n",
      "you with the quality service and experience you deserve.\n",
      "\n",
      "Thank you for your feedback, as it helps us improve and serve you\n",
      "better. We look forward to welcoming you back soon.\n",
      "\n",
      "Warm regards,\n",
      "\n",
      "[Your Company Name] Customer Service Team\n"
     ]
    }
   ],
   "source": [
    "\n",
    "negative_message = full_chain.invoke({\"review\": negative_test})\n",
    "print(negative_message[\"message\"])"
   ]
  },
  {
   "cell_type": "code",
   "execution_count": 19,
   "metadata": {},
   "outputs": [
    {
     "name": "stdout",
     "output_type": "stream",
     "text": [
      "Thank you so much for your wonderful feedback! We're thrilled to hear that you \n",
      "enjoyed our outstanding service and delicious food. As a token of our appreciation, \n",
      "we'd like to offer you a voucher for a complimentary dessert on your next visit. \n",
      "We look forward to welcoming you back soon!\n"
     ]
    }
   ],
   "source": [
    "\n",
    "positive_message = full_chain.invoke({\"review\": positive_test})\n",
    "print(positive_message[\"message\"])"
   ]
  },
  {
   "cell_type": "code",
   "execution_count": null,
   "metadata": {},
   "outputs": [],
   "source": []
  },
  {
   "cell_type": "code",
   "execution_count": null,
   "metadata": {},
   "outputs": [],
   "source": []
  },
  {
   "cell_type": "code",
   "execution_count": null,
   "metadata": {},
   "outputs": [],
   "source": []
  },
  {
   "cell_type": "code",
   "execution_count": null,
   "metadata": {},
   "outputs": [],
   "source": []
  },
  {
   "cell_type": "code",
   "execution_count": null,
   "metadata": {},
   "outputs": [],
   "source": []
  },
  {
   "cell_type": "code",
   "execution_count": null,
   "metadata": {},
   "outputs": [],
   "source": []
  },
  {
   "cell_type": "code",
   "execution_count": null,
   "metadata": {},
   "outputs": [],
   "source": []
  },
  {
   "cell_type": "code",
   "execution_count": null,
   "metadata": {},
   "outputs": [],
   "source": []
  },
  {
   "cell_type": "code",
   "execution_count": null,
   "metadata": {},
   "outputs": [],
   "source": []
  }
 ],
 "metadata": {
  "kernelspec": {
   "display_name": "arisa-genai",
   "language": "python",
   "name": "python3"
  },
  "language_info": {
   "codemirror_mode": {
    "name": "ipython",
    "version": 3
   },
   "file_extension": ".py",
   "mimetype": "text/x-python",
   "name": "python",
   "nbconvert_exporter": "python",
   "pygments_lexer": "ipython3",
   "version": "3.12.9"
  }
 },
 "nbformat": 4,
 "nbformat_minor": 2
}
