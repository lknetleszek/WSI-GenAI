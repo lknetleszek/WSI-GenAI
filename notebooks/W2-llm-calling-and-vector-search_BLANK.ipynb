{
 "cells": [
  {
   "cell_type": "code",
   "execution_count": null,
   "metadata": {},
   "outputs": [],
   "source": [
    "import pandas as pd\n",
    "import openai\n",
    "import os\n",
    "\n",
    "\n",
    "import os\n",
    "from dotenv import load_dotenv\n",
    "from tqdm import tqdm\n",
    "from sklearn.metrics import confusion_matrix, accuracy_score\n",
    "import plotly.express as px\n",
    "\n",
    "import chromadb\n",
    "from langchain_core.output_parsers import JsonOutputParser\n",
    "from chromadb.utils import embedding_functions\n",
    "tqdm.pandas()"
   ]
  },
  {
   "cell_type": "code",
   "execution_count": 111,
   "metadata": {},
   "outputs": [],
   "source": [
    "#pip install chromadb==0.6.3"
   ]
  },
  {
   "cell_type": "code",
   "execution_count": 112,
   "metadata": {},
   "outputs": [],
   "source": [
    "#pip install langchain"
   ]
  },
  {
   "cell_type": "code",
   "execution_count": 15,
   "metadata": {},
   "outputs": [],
   "source": [
    "os.chdir(\"..\")"
   ]
  },
  {
   "cell_type": "code",
   "execution_count": 16,
   "metadata": {},
   "outputs": [
    {
     "data": {
      "text/plain": [
       "'c:\\\\Users\\\\Jan Majewski\\\\Documents\\\\Conferences&Courses\\\\WSI\\\\WSI-GenAI'"
      ]
     },
     "execution_count": 16,
     "metadata": {},
     "output_type": "execute_result"
    }
   ],
   "source": [
    "pwd"
   ]
  },
  {
   "cell_type": "code",
   "execution_count": 17,
   "metadata": {},
   "outputs": [],
   "source": [
    "##Attention: You need to be in WSI-GenAI dir"
   ]
  },
  {
   "cell_type": "code",
   "execution_count": 18,
   "metadata": {},
   "outputs": [
    {
     "data": {
      "text/plain": [
       "True"
      ]
     },
     "execution_count": 18,
     "metadata": {},
     "output_type": "execute_result"
    }
   ],
   "source": [
    "load_dotenv()\n"
   ]
  },
  {
   "cell_type": "markdown",
   "metadata": {},
   "source": [
    "## Setup keys and parsers for later"
   ]
  },
  {
   "cell_type": "code",
   "execution_count": 19,
   "metadata": {},
   "outputs": [],
   "source": [
    "openai.api_key = OPENAI_API_KEY = os.getenv(\"OPENAI_API_KEY\")\n",
    "\n",
    "client = openai.Client()\n",
    "\n",
    "output_parser = JsonOutputParser()"
   ]
  },
  {
   "cell_type": "markdown",
   "metadata": {},
   "source": [
    "## Load data of 100 FAQ items from a travel company"
   ]
  },
  {
   "cell_type": "code",
   "execution_count": null,
   "metadata": {},
   "outputs": [],
   "source": [
    "df = pd.read_json(\"data/travel_company_faq.json\")\n",
    "i=10\n",
    "questions = df.loc[i].question\n"
   ]
  },
  {
   "cell_type": "markdown",
   "metadata": {},
   "source": [
    "# Classify FAQ items with LLM"
   ]
  },
  {
   "cell_type": "code",
   "execution_count": null,
   "metadata": {},
   "outputs": [],
   "source": [
    "##TODO: Prepare system prompt to split FAQ items into 4 categories: [air-travel, hotels-and-booking, food, insurance, extra-activities]\n",
    "# System prompt with instructions and the JSON format we expect\n",
    "system_prompt = ..."
   ]
  },
  {
   "cell_type": "code",
   "execution_count": null,
   "metadata": {},
   "outputs": [],
   "source": [
    "\n",
    "\n",
    "# --- Step 2: Define a function to call OpenAI’s chat completion directly ---\n",
    "def classify_question(question: str, system_prompt: str) -> str:\n",
    "    \"\"\"\n",
    "    Calls the OpenAI ChatCompletion endpoint to classify the question.\n",
    "    Returns the predicted category.\n",
    "    \"\"\"\n",
    "\n",
    "    # Make a direct OpenAI chat call (using the fictional \"gpt-4o-mini\" as specified)\n",
    "\n",
    "    response = client.chat.completions.create(\n",
    "        model=\"gpt-4o-mini\",  # Updated to match available models\n",
    "        messages=[\n",
    "            {\"role\": \"system\", \"content\": system_prompt},\n",
    "            {\"role\": \"user\", \"content\": question}\n",
    "        ],\n",
    "        temperature=0,\n",
    "    )\n",
    "\n",
    "\n",
    "    # Extract the content of the model’s answer\n",
    "    content = response.choices[0].message.content\n",
    "\n",
    "    ##TODO: Use the LangChain parser to convert the JSON string into a Python dict and return only category as text\n",
    "    parsed_response =.....\n",
    "\n",
    "    return ...\n",
    "\n"
   ]
  },
  {
   "cell_type": "code",
   "execution_count": 113,
   "metadata": {},
   "outputs": [
    {
     "name": "stdout",
     "output_type": "stream",
     "text": [
      "air-travel\n"
     ]
    }
   ],
   "source": [
    "output = classify_question(questions, system_prompt)\n",
    "print(output)"
   ]
  },
  {
   "cell_type": "markdown",
   "metadata": {},
   "source": [
    "## Get predicted category and evaluate metrics"
   ]
  },
  {
   "cell_type": "code",
   "execution_count": 25,
   "metadata": {},
   "outputs": [
    {
     "name": "stderr",
     "output_type": "stream",
     "text": [
      "100%|██████████| 100/100 [01:49<00:00,  1.09s/it]\n"
     ]
    }
   ],
   "source": [
    "df[\"predicted_category\"] = df[\"question\"].progress_apply(\n",
    "    lambda q: classify_question(q, system_prompt)\n",
    ")"
   ]
  },
  {
   "cell_type": "code",
   "execution_count": null,
   "metadata": {},
   "outputs": [
    {
     "name": "stdout",
     "output_type": "stream",
     "text": [
      "Accuracy: 0.96\n"
     ]
    }
   ],
   "source": [
    "##TODO: calculate accuracy score using sklean\n",
    "accuracy = ....\n",
    "print(f\"Accuracy: {accuracy:.2f}\")\n"
   ]
  },
  {
   "cell_type": "code",
   "execution_count": 27,
   "metadata": {},
   "outputs": [],
   "source": [
    "def plot_confusion_matrix(df, pred_col = \"predicted_category\"):\n",
    "    categories = sorted(df[\"category\"].unique())\n",
    "    cm = confusion_matrix(\n",
    "        df[\"category\"],\n",
    "        df[pred_col],\n",
    "        labels=categories\n",
    "    )\n",
    "\n",
    "    # 4. Plot the confusion matrix with Plotly\n",
    "    fig = px.imshow(\n",
    "        cm,\n",
    "        x=categories,  # predicted labels across the top\n",
    "        y=categories,  # actual labels along the side\n",
    "        text_auto=True,  # show values in each cell\n",
    "        labels=dict(x=\"Predicted\", y=\"Actual\", color=\"Count\")\n",
    "    )\n",
    "    fig.update_layout(\n",
    "        title=\"Confusion Matrix\"\n",
    "    )\n",
    "    fig.show()"
   ]
  },
  {
   "cell_type": "code",
   "execution_count": 28,
   "metadata": {},
   "outputs": [
    {
     "data": {
      "application/vnd.plotly.v1+json": {
       "config": {
        "plotlyServerURL": "https://plotly.com"
       },
       "data": [
        {
         "coloraxis": "coloraxis",
         "hovertemplate": "Predicted: %{x}<br>Actual: %{y}<br>Count: %{z}<extra></extra>",
         "name": "0",
         "texttemplate": "%{z}",
         "type": "heatmap",
         "x": [
          "air-travel",
          "extra-activities",
          "food",
          "hotels-and-booking",
          "insurance"
         ],
         "xaxis": "x",
         "y": [
          "air-travel",
          "extra-activities",
          "food",
          "hotels-and-booking",
          "insurance"
         ],
         "yaxis": "y",
         "z": {
          "bdata": "FAAAAAAAFAAAAAACEAIAAAAAFAAAAAAAFA==",
          "dtype": "i1",
          "shape": "5, 5"
         }
        }
       ],
       "layout": {
        "coloraxis": {
         "colorbar": {
          "title": {
           "text": "Count"
          }
         },
         "colorscale": [
          [
           0,
           "#0d0887"
          ],
          [
           0.1111111111111111,
           "#46039f"
          ],
          [
           0.2222222222222222,
           "#7201a8"
          ],
          [
           0.3333333333333333,
           "#9c179e"
          ],
          [
           0.4444444444444444,
           "#bd3786"
          ],
          [
           0.5555555555555556,
           "#d8576b"
          ],
          [
           0.6666666666666666,
           "#ed7953"
          ],
          [
           0.7777777777777778,
           "#fb9f3a"
          ],
          [
           0.8888888888888888,
           "#fdca26"
          ],
          [
           1,
           "#f0f921"
          ]
         ]
        },
        "margin": {
         "t": 60
        },
        "template": {
         "data": {
          "bar": [
           {
            "error_x": {
             "color": "#2a3f5f"
            },
            "error_y": {
             "color": "#2a3f5f"
            },
            "marker": {
             "line": {
              "color": "#E5ECF6",
              "width": 0.5
             },
             "pattern": {
              "fillmode": "overlay",
              "size": 10,
              "solidity": 0.2
             }
            },
            "type": "bar"
           }
          ],
          "barpolar": [
           {
            "marker": {
             "line": {
              "color": "#E5ECF6",
              "width": 0.5
             },
             "pattern": {
              "fillmode": "overlay",
              "size": 10,
              "solidity": 0.2
             }
            },
            "type": "barpolar"
           }
          ],
          "carpet": [
           {
            "aaxis": {
             "endlinecolor": "#2a3f5f",
             "gridcolor": "white",
             "linecolor": "white",
             "minorgridcolor": "white",
             "startlinecolor": "#2a3f5f"
            },
            "baxis": {
             "endlinecolor": "#2a3f5f",
             "gridcolor": "white",
             "linecolor": "white",
             "minorgridcolor": "white",
             "startlinecolor": "#2a3f5f"
            },
            "type": "carpet"
           }
          ],
          "choropleth": [
           {
            "colorbar": {
             "outlinewidth": 0,
             "ticks": ""
            },
            "type": "choropleth"
           }
          ],
          "contour": [
           {
            "colorbar": {
             "outlinewidth": 0,
             "ticks": ""
            },
            "colorscale": [
             [
              0,
              "#0d0887"
             ],
             [
              0.1111111111111111,
              "#46039f"
             ],
             [
              0.2222222222222222,
              "#7201a8"
             ],
             [
              0.3333333333333333,
              "#9c179e"
             ],
             [
              0.4444444444444444,
              "#bd3786"
             ],
             [
              0.5555555555555556,
              "#d8576b"
             ],
             [
              0.6666666666666666,
              "#ed7953"
             ],
             [
              0.7777777777777778,
              "#fb9f3a"
             ],
             [
              0.8888888888888888,
              "#fdca26"
             ],
             [
              1,
              "#f0f921"
             ]
            ],
            "type": "contour"
           }
          ],
          "contourcarpet": [
           {
            "colorbar": {
             "outlinewidth": 0,
             "ticks": ""
            },
            "type": "contourcarpet"
           }
          ],
          "heatmap": [
           {
            "colorbar": {
             "outlinewidth": 0,
             "ticks": ""
            },
            "colorscale": [
             [
              0,
              "#0d0887"
             ],
             [
              0.1111111111111111,
              "#46039f"
             ],
             [
              0.2222222222222222,
              "#7201a8"
             ],
             [
              0.3333333333333333,
              "#9c179e"
             ],
             [
              0.4444444444444444,
              "#bd3786"
             ],
             [
              0.5555555555555556,
              "#d8576b"
             ],
             [
              0.6666666666666666,
              "#ed7953"
             ],
             [
              0.7777777777777778,
              "#fb9f3a"
             ],
             [
              0.8888888888888888,
              "#fdca26"
             ],
             [
              1,
              "#f0f921"
             ]
            ],
            "type": "heatmap"
           }
          ],
          "histogram": [
           {
            "marker": {
             "pattern": {
              "fillmode": "overlay",
              "size": 10,
              "solidity": 0.2
             }
            },
            "type": "histogram"
           }
          ],
          "histogram2d": [
           {
            "colorbar": {
             "outlinewidth": 0,
             "ticks": ""
            },
            "colorscale": [
             [
              0,
              "#0d0887"
             ],
             [
              0.1111111111111111,
              "#46039f"
             ],
             [
              0.2222222222222222,
              "#7201a8"
             ],
             [
              0.3333333333333333,
              "#9c179e"
             ],
             [
              0.4444444444444444,
              "#bd3786"
             ],
             [
              0.5555555555555556,
              "#d8576b"
             ],
             [
              0.6666666666666666,
              "#ed7953"
             ],
             [
              0.7777777777777778,
              "#fb9f3a"
             ],
             [
              0.8888888888888888,
              "#fdca26"
             ],
             [
              1,
              "#f0f921"
             ]
            ],
            "type": "histogram2d"
           }
          ],
          "histogram2dcontour": [
           {
            "colorbar": {
             "outlinewidth": 0,
             "ticks": ""
            },
            "colorscale": [
             [
              0,
              "#0d0887"
             ],
             [
              0.1111111111111111,
              "#46039f"
             ],
             [
              0.2222222222222222,
              "#7201a8"
             ],
             [
              0.3333333333333333,
              "#9c179e"
             ],
             [
              0.4444444444444444,
              "#bd3786"
             ],
             [
              0.5555555555555556,
              "#d8576b"
             ],
             [
              0.6666666666666666,
              "#ed7953"
             ],
             [
              0.7777777777777778,
              "#fb9f3a"
             ],
             [
              0.8888888888888888,
              "#fdca26"
             ],
             [
              1,
              "#f0f921"
             ]
            ],
            "type": "histogram2dcontour"
           }
          ],
          "mesh3d": [
           {
            "colorbar": {
             "outlinewidth": 0,
             "ticks": ""
            },
            "type": "mesh3d"
           }
          ],
          "parcoords": [
           {
            "line": {
             "colorbar": {
              "outlinewidth": 0,
              "ticks": ""
             }
            },
            "type": "parcoords"
           }
          ],
          "pie": [
           {
            "automargin": true,
            "type": "pie"
           }
          ],
          "scatter": [
           {
            "fillpattern": {
             "fillmode": "overlay",
             "size": 10,
             "solidity": 0.2
            },
            "type": "scatter"
           }
          ],
          "scatter3d": [
           {
            "line": {
             "colorbar": {
              "outlinewidth": 0,
              "ticks": ""
             }
            },
            "marker": {
             "colorbar": {
              "outlinewidth": 0,
              "ticks": ""
             }
            },
            "type": "scatter3d"
           }
          ],
          "scattercarpet": [
           {
            "marker": {
             "colorbar": {
              "outlinewidth": 0,
              "ticks": ""
             }
            },
            "type": "scattercarpet"
           }
          ],
          "scattergeo": [
           {
            "marker": {
             "colorbar": {
              "outlinewidth": 0,
              "ticks": ""
             }
            },
            "type": "scattergeo"
           }
          ],
          "scattergl": [
           {
            "marker": {
             "colorbar": {
              "outlinewidth": 0,
              "ticks": ""
             }
            },
            "type": "scattergl"
           }
          ],
          "scattermap": [
           {
            "marker": {
             "colorbar": {
              "outlinewidth": 0,
              "ticks": ""
             }
            },
            "type": "scattermap"
           }
          ],
          "scattermapbox": [
           {
            "marker": {
             "colorbar": {
              "outlinewidth": 0,
              "ticks": ""
             }
            },
            "type": "scattermapbox"
           }
          ],
          "scatterpolar": [
           {
            "marker": {
             "colorbar": {
              "outlinewidth": 0,
              "ticks": ""
             }
            },
            "type": "scatterpolar"
           }
          ],
          "scatterpolargl": [
           {
            "marker": {
             "colorbar": {
              "outlinewidth": 0,
              "ticks": ""
             }
            },
            "type": "scatterpolargl"
           }
          ],
          "scatterternary": [
           {
            "marker": {
             "colorbar": {
              "outlinewidth": 0,
              "ticks": ""
             }
            },
            "type": "scatterternary"
           }
          ],
          "surface": [
           {
            "colorbar": {
             "outlinewidth": 0,
             "ticks": ""
            },
            "colorscale": [
             [
              0,
              "#0d0887"
             ],
             [
              0.1111111111111111,
              "#46039f"
             ],
             [
              0.2222222222222222,
              "#7201a8"
             ],
             [
              0.3333333333333333,
              "#9c179e"
             ],
             [
              0.4444444444444444,
              "#bd3786"
             ],
             [
              0.5555555555555556,
              "#d8576b"
             ],
             [
              0.6666666666666666,
              "#ed7953"
             ],
             [
              0.7777777777777778,
              "#fb9f3a"
             ],
             [
              0.8888888888888888,
              "#fdca26"
             ],
             [
              1,
              "#f0f921"
             ]
            ],
            "type": "surface"
           }
          ],
          "table": [
           {
            "cells": {
             "fill": {
              "color": "#EBF0F8"
             },
             "line": {
              "color": "white"
             }
            },
            "header": {
             "fill": {
              "color": "#C8D4E3"
             },
             "line": {
              "color": "white"
             }
            },
            "type": "table"
           }
          ]
         },
         "layout": {
          "annotationdefaults": {
           "arrowcolor": "#2a3f5f",
           "arrowhead": 0,
           "arrowwidth": 1
          },
          "autotypenumbers": "strict",
          "coloraxis": {
           "colorbar": {
            "outlinewidth": 0,
            "ticks": ""
           }
          },
          "colorscale": {
           "diverging": [
            [
             0,
             "#8e0152"
            ],
            [
             0.1,
             "#c51b7d"
            ],
            [
             0.2,
             "#de77ae"
            ],
            [
             0.3,
             "#f1b6da"
            ],
            [
             0.4,
             "#fde0ef"
            ],
            [
             0.5,
             "#f7f7f7"
            ],
            [
             0.6,
             "#e6f5d0"
            ],
            [
             0.7,
             "#b8e186"
            ],
            [
             0.8,
             "#7fbc41"
            ],
            [
             0.9,
             "#4d9221"
            ],
            [
             1,
             "#276419"
            ]
           ],
           "sequential": [
            [
             0,
             "#0d0887"
            ],
            [
             0.1111111111111111,
             "#46039f"
            ],
            [
             0.2222222222222222,
             "#7201a8"
            ],
            [
             0.3333333333333333,
             "#9c179e"
            ],
            [
             0.4444444444444444,
             "#bd3786"
            ],
            [
             0.5555555555555556,
             "#d8576b"
            ],
            [
             0.6666666666666666,
             "#ed7953"
            ],
            [
             0.7777777777777778,
             "#fb9f3a"
            ],
            [
             0.8888888888888888,
             "#fdca26"
            ],
            [
             1,
             "#f0f921"
            ]
           ],
           "sequentialminus": [
            [
             0,
             "#0d0887"
            ],
            [
             0.1111111111111111,
             "#46039f"
            ],
            [
             0.2222222222222222,
             "#7201a8"
            ],
            [
             0.3333333333333333,
             "#9c179e"
            ],
            [
             0.4444444444444444,
             "#bd3786"
            ],
            [
             0.5555555555555556,
             "#d8576b"
            ],
            [
             0.6666666666666666,
             "#ed7953"
            ],
            [
             0.7777777777777778,
             "#fb9f3a"
            ],
            [
             0.8888888888888888,
             "#fdca26"
            ],
            [
             1,
             "#f0f921"
            ]
           ]
          },
          "colorway": [
           "#636efa",
           "#EF553B",
           "#00cc96",
           "#ab63fa",
           "#FFA15A",
           "#19d3f3",
           "#FF6692",
           "#B6E880",
           "#FF97FF",
           "#FECB52"
          ],
          "font": {
           "color": "#2a3f5f"
          },
          "geo": {
           "bgcolor": "white",
           "lakecolor": "white",
           "landcolor": "#E5ECF6",
           "showlakes": true,
           "showland": true,
           "subunitcolor": "white"
          },
          "hoverlabel": {
           "align": "left"
          },
          "hovermode": "closest",
          "mapbox": {
           "style": "light"
          },
          "paper_bgcolor": "white",
          "plot_bgcolor": "#E5ECF6",
          "polar": {
           "angularaxis": {
            "gridcolor": "white",
            "linecolor": "white",
            "ticks": ""
           },
           "bgcolor": "#E5ECF6",
           "radialaxis": {
            "gridcolor": "white",
            "linecolor": "white",
            "ticks": ""
           }
          },
          "scene": {
           "xaxis": {
            "backgroundcolor": "#E5ECF6",
            "gridcolor": "white",
            "gridwidth": 2,
            "linecolor": "white",
            "showbackground": true,
            "ticks": "",
            "zerolinecolor": "white"
           },
           "yaxis": {
            "backgroundcolor": "#E5ECF6",
            "gridcolor": "white",
            "gridwidth": 2,
            "linecolor": "white",
            "showbackground": true,
            "ticks": "",
            "zerolinecolor": "white"
           },
           "zaxis": {
            "backgroundcolor": "#E5ECF6",
            "gridcolor": "white",
            "gridwidth": 2,
            "linecolor": "white",
            "showbackground": true,
            "ticks": "",
            "zerolinecolor": "white"
           }
          },
          "shapedefaults": {
           "line": {
            "color": "#2a3f5f"
           }
          },
          "ternary": {
           "aaxis": {
            "gridcolor": "white",
            "linecolor": "white",
            "ticks": ""
           },
           "baxis": {
            "gridcolor": "white",
            "linecolor": "white",
            "ticks": ""
           },
           "bgcolor": "#E5ECF6",
           "caxis": {
            "gridcolor": "white",
            "linecolor": "white",
            "ticks": ""
           }
          },
          "title": {
           "x": 0.05
          },
          "xaxis": {
           "automargin": true,
           "gridcolor": "white",
           "linecolor": "white",
           "ticks": "",
           "title": {
            "standoff": 15
           },
           "zerolinecolor": "white",
           "zerolinewidth": 2
          },
          "yaxis": {
           "automargin": true,
           "gridcolor": "white",
           "linecolor": "white",
           "ticks": "",
           "title": {
            "standoff": 15
           },
           "zerolinecolor": "white",
           "zerolinewidth": 2
          }
         }
        },
        "title": {
         "text": "Confusion Matrix"
        },
        "xaxis": {
         "anchor": "y",
         "constrain": "domain",
         "domain": [
          0,
          1
         ],
         "scaleanchor": "y",
         "title": {
          "text": "Predicted"
         }
        },
        "yaxis": {
         "anchor": "x",
         "autorange": "reversed",
         "constrain": "domain",
         "domain": [
          0,
          1
         ],
         "title": {
          "text": "Actual"
         }
        }
       }
      }
     },
     "metadata": {},
     "output_type": "display_data"
    }
   ],
   "source": [
    "plot_confusion_matrix(df)"
   ]
  },
  {
   "cell_type": "markdown",
   "metadata": {},
   "source": []
  },
  {
   "cell_type": "markdown",
   "metadata": {},
   "source": [
    "## Few shot learning"
   ]
  },
  {
   "cell_type": "code",
   "execution_count": null,
   "metadata": {},
   "outputs": [],
   "source": [
    "\n",
    "def add_few_shot_examples(system_prompt: str, df: pd.DataFrame, n_per_category: int = 2) -> str:\n",
    "    \"\"\"\n",
    "    Takes a base system prompt and appends n few-shot examples per category,\n",
    "    drawn from the DataFrame (which must have columns: 'question' and 'category').\n",
    "\n",
    "    :param system_prompt: The base system prompt string.\n",
    "    :param df: DataFrame with columns ['question', 'answer', 'category'].\n",
    "    :param n_per_category: How many examples per category to append.\n",
    "    :return: A new system prompt including few-shot examples.\n",
    "    \"\"\"\n",
    "\n",
    "    # Ensure categories are as expected (or adapt to your exact categories)\n",
    "    # If your categories are known, you could explicitly list them:\n",
    "    # categories = [\"air-travel\", \"hotels-and-booking\", \"food\", \"insurance\", \"extra-activities\"]\n",
    "    categories = df[\"category\"].unique()\n",
    "\n",
    "    few_shot_examples_section = \"\\n\\nHere are some examples:\\n\"\n",
    "\n",
    "    ##TODO: Add n examples from df per category to system_prompt as few shot learning. \n",
    "    ##Iterate through each category and n rows and keep appending example questions to few_shot_examples_section\n",
    "    for cat in categories:\n",
    "        # Subset data for this category\n",
    "       ....\n",
    "\n",
    "        # Randomly sample n_per_category questions for that category\n",
    "        # (If your dataset is small, you might avoid random and just take .head(n_samples))\n",
    "        ...\n",
    "\n",
    "        # Build the example text\n",
    "        for _, row in ....\n",
    "            # Feel free to refine or format these examples however you prefer\n",
    "            example_text = f\"\"\"\n",
    "            Q: {row['question']}\n",
    "            Category: {row['category']}\n",
    "                        \"\"\"\n",
    "            few_shot_examples_section += example_text\n",
    "\n",
    "    # Append the few-shot examples to the base system prompt\n",
    "    new_system_prompt = system_prompt + few_shot_examples_section\n",
    "    return new_system_prompt"
   ]
  },
  {
   "cell_type": "code",
   "execution_count": 116,
   "metadata": {},
   "outputs": [],
   "source": [
    "system_prompt_with_few_shot =  add_few_shot_examples(system_prompt, df, n_per_category = 2)"
   ]
  },
  {
   "cell_type": "code",
   "execution_count": 118,
   "metadata": {},
   "outputs": [
    {
     "name": "stdout",
     "output_type": "stream",
     "text": [
      "You are a helpful assistant.\n",
      "Your task: Classify the given question into one of the following categories:\n",
      "[air-travel, hotels-and-booking, food, insurance, extra-activities].\n",
      "\n",
      "Return the result ONLY in valid JSON, in the format:\n",
      "{\"category\":\"<category>\"}\n",
      "\n",
      "\n",
      "\n",
      "Here are some examples:\n",
      "\n",
      "            Q: What is the maximum baggage allowance for flights to Greece?\n",
      "            Category: air-travel\n",
      "                        \n",
      "            Q: How do I change my flight date once I’ve booked?\n",
      "            Category: air-travel\n",
      "                        \n",
      "            Q: How can I modify my hotel reservation in Italy after it's confirmed?\n",
      "            Category: hotels-and-booking\n",
      "                        \n",
      "            Q: Can I book a hotel room without a credit card?\n",
      "            Category: hotels-and-booking\n",
      "                        \n",
      "            Q: Do you cater to vegetarian or vegan diets at your partner hotels in Italy?\n",
      "            Category: food\n",
      "                        \n",
      "            Q: What types of restaurants are near most hotels in Dubrovnik?\n",
      "            Category: food\n",
      "                        \n",
      "            Q: Does your travel insurance cover medical expenses abroad?\n",
      "            Category: insurance\n",
      "                        \n",
      "            Q: Are there age restrictions on your travel insurance plans?\n",
      "            Category: insurance\n",
      "                        \n",
      "            Q: Do you offer guided tours of historical sites in Athens?\n",
      "            Category: extra-activities\n",
      "                        \n",
      "            Q: Can you arrange tickets for a football match in Italy?\n",
      "            Category: extra-activities\n",
      "                        \n"
     ]
    }
   ],
   "source": [
    "print(system_prompt_with_few_shot)"
   ]
  },
  {
   "cell_type": "code",
   "execution_count": 31,
   "metadata": {},
   "outputs": [
    {
     "name": "stderr",
     "output_type": "stream",
     "text": [
      "100%|██████████| 100/100 [01:45<00:00,  1.06s/it]\n"
     ]
    }
   ],
   "source": [
    "df[\"predicted_category_few_shot\"] = df[\"question\"].progress_apply(\n",
    "    lambda q: classify_question(q, system_prompt_with_few_shot )\n",
    ")"
   ]
  },
  {
   "cell_type": "code",
   "execution_count": 32,
   "metadata": {},
   "outputs": [
    {
     "name": "stdout",
     "output_type": "stream",
     "text": [
      "Accuracy: 0.97\n"
     ]
    }
   ],
   "source": [
    "accuracy = accuracy_score(df[\"category\"], df[\"predicted_category_few_shot\"])\n",
    "print(f\"Accuracy: {accuracy:.2f}\")\n"
   ]
  },
  {
   "cell_type": "code",
   "execution_count": 33,
   "metadata": {},
   "outputs": [
    {
     "data": {
      "application/vnd.plotly.v1+json": {
       "config": {
        "plotlyServerURL": "https://plotly.com"
       },
       "data": [
        {
         "coloraxis": "coloraxis",
         "hovertemplate": "Predicted: %{x}<br>Actual: %{y}<br>Count: %{z}<extra></extra>",
         "name": "0",
         "texttemplate": "%{z}",
         "type": "heatmap",
         "x": [
          "air-travel",
          "extra-activities",
          "food",
          "hotels-and-booking",
          "insurance"
         ],
         "xaxis": "x",
         "y": [
          "air-travel",
          "extra-activities",
          "food",
          "hotels-and-booking",
          "insurance"
         ],
         "yaxis": "y",
         "z": {
          "bdata": "FAAAAAAAFAAAAAADEQAAAAAAFAAAAAAAFA==",
          "dtype": "i1",
          "shape": "5, 5"
         }
        }
       ],
       "layout": {
        "coloraxis": {
         "colorbar": {
          "title": {
           "text": "Count"
          }
         },
         "colorscale": [
          [
           0,
           "#0d0887"
          ],
          [
           0.1111111111111111,
           "#46039f"
          ],
          [
           0.2222222222222222,
           "#7201a8"
          ],
          [
           0.3333333333333333,
           "#9c179e"
          ],
          [
           0.4444444444444444,
           "#bd3786"
          ],
          [
           0.5555555555555556,
           "#d8576b"
          ],
          [
           0.6666666666666666,
           "#ed7953"
          ],
          [
           0.7777777777777778,
           "#fb9f3a"
          ],
          [
           0.8888888888888888,
           "#fdca26"
          ],
          [
           1,
           "#f0f921"
          ]
         ]
        },
        "margin": {
         "t": 60
        },
        "template": {
         "data": {
          "bar": [
           {
            "error_x": {
             "color": "#2a3f5f"
            },
            "error_y": {
             "color": "#2a3f5f"
            },
            "marker": {
             "line": {
              "color": "#E5ECF6",
              "width": 0.5
             },
             "pattern": {
              "fillmode": "overlay",
              "size": 10,
              "solidity": 0.2
             }
            },
            "type": "bar"
           }
          ],
          "barpolar": [
           {
            "marker": {
             "line": {
              "color": "#E5ECF6",
              "width": 0.5
             },
             "pattern": {
              "fillmode": "overlay",
              "size": 10,
              "solidity": 0.2
             }
            },
            "type": "barpolar"
           }
          ],
          "carpet": [
           {
            "aaxis": {
             "endlinecolor": "#2a3f5f",
             "gridcolor": "white",
             "linecolor": "white",
             "minorgridcolor": "white",
             "startlinecolor": "#2a3f5f"
            },
            "baxis": {
             "endlinecolor": "#2a3f5f",
             "gridcolor": "white",
             "linecolor": "white",
             "minorgridcolor": "white",
             "startlinecolor": "#2a3f5f"
            },
            "type": "carpet"
           }
          ],
          "choropleth": [
           {
            "colorbar": {
             "outlinewidth": 0,
             "ticks": ""
            },
            "type": "choropleth"
           }
          ],
          "contour": [
           {
            "colorbar": {
             "outlinewidth": 0,
             "ticks": ""
            },
            "colorscale": [
             [
              0,
              "#0d0887"
             ],
             [
              0.1111111111111111,
              "#46039f"
             ],
             [
              0.2222222222222222,
              "#7201a8"
             ],
             [
              0.3333333333333333,
              "#9c179e"
             ],
             [
              0.4444444444444444,
              "#bd3786"
             ],
             [
              0.5555555555555556,
              "#d8576b"
             ],
             [
              0.6666666666666666,
              "#ed7953"
             ],
             [
              0.7777777777777778,
              "#fb9f3a"
             ],
             [
              0.8888888888888888,
              "#fdca26"
             ],
             [
              1,
              "#f0f921"
             ]
            ],
            "type": "contour"
           }
          ],
          "contourcarpet": [
           {
            "colorbar": {
             "outlinewidth": 0,
             "ticks": ""
            },
            "type": "contourcarpet"
           }
          ],
          "heatmap": [
           {
            "colorbar": {
             "outlinewidth": 0,
             "ticks": ""
            },
            "colorscale": [
             [
              0,
              "#0d0887"
             ],
             [
              0.1111111111111111,
              "#46039f"
             ],
             [
              0.2222222222222222,
              "#7201a8"
             ],
             [
              0.3333333333333333,
              "#9c179e"
             ],
             [
              0.4444444444444444,
              "#bd3786"
             ],
             [
              0.5555555555555556,
              "#d8576b"
             ],
             [
              0.6666666666666666,
              "#ed7953"
             ],
             [
              0.7777777777777778,
              "#fb9f3a"
             ],
             [
              0.8888888888888888,
              "#fdca26"
             ],
             [
              1,
              "#f0f921"
             ]
            ],
            "type": "heatmap"
           }
          ],
          "histogram": [
           {
            "marker": {
             "pattern": {
              "fillmode": "overlay",
              "size": 10,
              "solidity": 0.2
             }
            },
            "type": "histogram"
           }
          ],
          "histogram2d": [
           {
            "colorbar": {
             "outlinewidth": 0,
             "ticks": ""
            },
            "colorscale": [
             [
              0,
              "#0d0887"
             ],
             [
              0.1111111111111111,
              "#46039f"
             ],
             [
              0.2222222222222222,
              "#7201a8"
             ],
             [
              0.3333333333333333,
              "#9c179e"
             ],
             [
              0.4444444444444444,
              "#bd3786"
             ],
             [
              0.5555555555555556,
              "#d8576b"
             ],
             [
              0.6666666666666666,
              "#ed7953"
             ],
             [
              0.7777777777777778,
              "#fb9f3a"
             ],
             [
              0.8888888888888888,
              "#fdca26"
             ],
             [
              1,
              "#f0f921"
             ]
            ],
            "type": "histogram2d"
           }
          ],
          "histogram2dcontour": [
           {
            "colorbar": {
             "outlinewidth": 0,
             "ticks": ""
            },
            "colorscale": [
             [
              0,
              "#0d0887"
             ],
             [
              0.1111111111111111,
              "#46039f"
             ],
             [
              0.2222222222222222,
              "#7201a8"
             ],
             [
              0.3333333333333333,
              "#9c179e"
             ],
             [
              0.4444444444444444,
              "#bd3786"
             ],
             [
              0.5555555555555556,
              "#d8576b"
             ],
             [
              0.6666666666666666,
              "#ed7953"
             ],
             [
              0.7777777777777778,
              "#fb9f3a"
             ],
             [
              0.8888888888888888,
              "#fdca26"
             ],
             [
              1,
              "#f0f921"
             ]
            ],
            "type": "histogram2dcontour"
           }
          ],
          "mesh3d": [
           {
            "colorbar": {
             "outlinewidth": 0,
             "ticks": ""
            },
            "type": "mesh3d"
           }
          ],
          "parcoords": [
           {
            "line": {
             "colorbar": {
              "outlinewidth": 0,
              "ticks": ""
             }
            },
            "type": "parcoords"
           }
          ],
          "pie": [
           {
            "automargin": true,
            "type": "pie"
           }
          ],
          "scatter": [
           {
            "fillpattern": {
             "fillmode": "overlay",
             "size": 10,
             "solidity": 0.2
            },
            "type": "scatter"
           }
          ],
          "scatter3d": [
           {
            "line": {
             "colorbar": {
              "outlinewidth": 0,
              "ticks": ""
             }
            },
            "marker": {
             "colorbar": {
              "outlinewidth": 0,
              "ticks": ""
             }
            },
            "type": "scatter3d"
           }
          ],
          "scattercarpet": [
           {
            "marker": {
             "colorbar": {
              "outlinewidth": 0,
              "ticks": ""
             }
            },
            "type": "scattercarpet"
           }
          ],
          "scattergeo": [
           {
            "marker": {
             "colorbar": {
              "outlinewidth": 0,
              "ticks": ""
             }
            },
            "type": "scattergeo"
           }
          ],
          "scattergl": [
           {
            "marker": {
             "colorbar": {
              "outlinewidth": 0,
              "ticks": ""
             }
            },
            "type": "scattergl"
           }
          ],
          "scattermap": [
           {
            "marker": {
             "colorbar": {
              "outlinewidth": 0,
              "ticks": ""
             }
            },
            "type": "scattermap"
           }
          ],
          "scattermapbox": [
           {
            "marker": {
             "colorbar": {
              "outlinewidth": 0,
              "ticks": ""
             }
            },
            "type": "scattermapbox"
           }
          ],
          "scatterpolar": [
           {
            "marker": {
             "colorbar": {
              "outlinewidth": 0,
              "ticks": ""
             }
            },
            "type": "scatterpolar"
           }
          ],
          "scatterpolargl": [
           {
            "marker": {
             "colorbar": {
              "outlinewidth": 0,
              "ticks": ""
             }
            },
            "type": "scatterpolargl"
           }
          ],
          "scatterternary": [
           {
            "marker": {
             "colorbar": {
              "outlinewidth": 0,
              "ticks": ""
             }
            },
            "type": "scatterternary"
           }
          ],
          "surface": [
           {
            "colorbar": {
             "outlinewidth": 0,
             "ticks": ""
            },
            "colorscale": [
             [
              0,
              "#0d0887"
             ],
             [
              0.1111111111111111,
              "#46039f"
             ],
             [
              0.2222222222222222,
              "#7201a8"
             ],
             [
              0.3333333333333333,
              "#9c179e"
             ],
             [
              0.4444444444444444,
              "#bd3786"
             ],
             [
              0.5555555555555556,
              "#d8576b"
             ],
             [
              0.6666666666666666,
              "#ed7953"
             ],
             [
              0.7777777777777778,
              "#fb9f3a"
             ],
             [
              0.8888888888888888,
              "#fdca26"
             ],
             [
              1,
              "#f0f921"
             ]
            ],
            "type": "surface"
           }
          ],
          "table": [
           {
            "cells": {
             "fill": {
              "color": "#EBF0F8"
             },
             "line": {
              "color": "white"
             }
            },
            "header": {
             "fill": {
              "color": "#C8D4E3"
             },
             "line": {
              "color": "white"
             }
            },
            "type": "table"
           }
          ]
         },
         "layout": {
          "annotationdefaults": {
           "arrowcolor": "#2a3f5f",
           "arrowhead": 0,
           "arrowwidth": 1
          },
          "autotypenumbers": "strict",
          "coloraxis": {
           "colorbar": {
            "outlinewidth": 0,
            "ticks": ""
           }
          },
          "colorscale": {
           "diverging": [
            [
             0,
             "#8e0152"
            ],
            [
             0.1,
             "#c51b7d"
            ],
            [
             0.2,
             "#de77ae"
            ],
            [
             0.3,
             "#f1b6da"
            ],
            [
             0.4,
             "#fde0ef"
            ],
            [
             0.5,
             "#f7f7f7"
            ],
            [
             0.6,
             "#e6f5d0"
            ],
            [
             0.7,
             "#b8e186"
            ],
            [
             0.8,
             "#7fbc41"
            ],
            [
             0.9,
             "#4d9221"
            ],
            [
             1,
             "#276419"
            ]
           ],
           "sequential": [
            [
             0,
             "#0d0887"
            ],
            [
             0.1111111111111111,
             "#46039f"
            ],
            [
             0.2222222222222222,
             "#7201a8"
            ],
            [
             0.3333333333333333,
             "#9c179e"
            ],
            [
             0.4444444444444444,
             "#bd3786"
            ],
            [
             0.5555555555555556,
             "#d8576b"
            ],
            [
             0.6666666666666666,
             "#ed7953"
            ],
            [
             0.7777777777777778,
             "#fb9f3a"
            ],
            [
             0.8888888888888888,
             "#fdca26"
            ],
            [
             1,
             "#f0f921"
            ]
           ],
           "sequentialminus": [
            [
             0,
             "#0d0887"
            ],
            [
             0.1111111111111111,
             "#46039f"
            ],
            [
             0.2222222222222222,
             "#7201a8"
            ],
            [
             0.3333333333333333,
             "#9c179e"
            ],
            [
             0.4444444444444444,
             "#bd3786"
            ],
            [
             0.5555555555555556,
             "#d8576b"
            ],
            [
             0.6666666666666666,
             "#ed7953"
            ],
            [
             0.7777777777777778,
             "#fb9f3a"
            ],
            [
             0.8888888888888888,
             "#fdca26"
            ],
            [
             1,
             "#f0f921"
            ]
           ]
          },
          "colorway": [
           "#636efa",
           "#EF553B",
           "#00cc96",
           "#ab63fa",
           "#FFA15A",
           "#19d3f3",
           "#FF6692",
           "#B6E880",
           "#FF97FF",
           "#FECB52"
          ],
          "font": {
           "color": "#2a3f5f"
          },
          "geo": {
           "bgcolor": "white",
           "lakecolor": "white",
           "landcolor": "#E5ECF6",
           "showlakes": true,
           "showland": true,
           "subunitcolor": "white"
          },
          "hoverlabel": {
           "align": "left"
          },
          "hovermode": "closest",
          "mapbox": {
           "style": "light"
          },
          "paper_bgcolor": "white",
          "plot_bgcolor": "#E5ECF6",
          "polar": {
           "angularaxis": {
            "gridcolor": "white",
            "linecolor": "white",
            "ticks": ""
           },
           "bgcolor": "#E5ECF6",
           "radialaxis": {
            "gridcolor": "white",
            "linecolor": "white",
            "ticks": ""
           }
          },
          "scene": {
           "xaxis": {
            "backgroundcolor": "#E5ECF6",
            "gridcolor": "white",
            "gridwidth": 2,
            "linecolor": "white",
            "showbackground": true,
            "ticks": "",
            "zerolinecolor": "white"
           },
           "yaxis": {
            "backgroundcolor": "#E5ECF6",
            "gridcolor": "white",
            "gridwidth": 2,
            "linecolor": "white",
            "showbackground": true,
            "ticks": "",
            "zerolinecolor": "white"
           },
           "zaxis": {
            "backgroundcolor": "#E5ECF6",
            "gridcolor": "white",
            "gridwidth": 2,
            "linecolor": "white",
            "showbackground": true,
            "ticks": "",
            "zerolinecolor": "white"
           }
          },
          "shapedefaults": {
           "line": {
            "color": "#2a3f5f"
           }
          },
          "ternary": {
           "aaxis": {
            "gridcolor": "white",
            "linecolor": "white",
            "ticks": ""
           },
           "baxis": {
            "gridcolor": "white",
            "linecolor": "white",
            "ticks": ""
           },
           "bgcolor": "#E5ECF6",
           "caxis": {
            "gridcolor": "white",
            "linecolor": "white",
            "ticks": ""
           }
          },
          "title": {
           "x": 0.05
          },
          "xaxis": {
           "automargin": true,
           "gridcolor": "white",
           "linecolor": "white",
           "ticks": "",
           "title": {
            "standoff": 15
           },
           "zerolinecolor": "white",
           "zerolinewidth": 2
          },
          "yaxis": {
           "automargin": true,
           "gridcolor": "white",
           "linecolor": "white",
           "ticks": "",
           "title": {
            "standoff": 15
           },
           "zerolinecolor": "white",
           "zerolinewidth": 2
          }
         }
        },
        "title": {
         "text": "Confusion Matrix"
        },
        "xaxis": {
         "anchor": "y",
         "constrain": "domain",
         "domain": [
          0,
          1
         ],
         "scaleanchor": "y",
         "title": {
          "text": "Predicted"
         }
        },
        "yaxis": {
         "anchor": "x",
         "autorange": "reversed",
         "constrain": "domain",
         "domain": [
          0,
          1
         ],
         "title": {
          "text": "Actual"
         }
        }
       }
      }
     },
     "metadata": {},
     "output_type": "display_data"
    }
   ],
   "source": [
    "plot_confusion_matrix(df, pred_col =\"predicted_category_few_shot\")"
   ]
  },
  {
   "cell_type": "markdown",
   "metadata": {},
   "source": [
    "# Introduction to vector search"
   ]
  },
  {
   "cell_type": "code",
   "execution_count": 34,
   "metadata": {},
   "outputs": [],
   "source": [
    "chroma_db_path = \"chroma_db\"\n",
    "chroma_client = chromadb.PersistentClient(path=chroma_db_path)\n",
    "\n",
    "SELECTED_COLLECTION = \"travel-company-faq\""
   ]
  },
  {
   "cell_type": "code",
   "execution_count": 35,
   "metadata": {},
   "outputs": [],
   "source": [
    "embedding_model = \"text-embedding-ada-002\"\n",
    "openai_ef = embedding_functions.OpenAIEmbeddingFunction(model_name=embedding_model, api_key = OPENAI_API_KEY)\n",
    "\n",
    "\n",
    "collection = chroma_client.get_or_create_collection(name=SELECTED_COLLECTION , embedding_function=openai_ef)"
   ]
  },
  {
   "cell_type": "code",
   "execution_count": 119,
   "metadata": {},
   "outputs": [],
   "source": [
    "def ingest_faq_data(df: pd.DataFrame, collection):\n",
    "    \"\"\"\n",
    "    \n",
    "    Ingest combined question and answer as vectorized documents. Store question, answer and category as metadata. \n",
    "    \"\"\"\n",
    "    all_ids = []\n",
    "    all_documents = []\n",
    "    all_metadatas = []\n",
    "\n",
    "    for i, row in df.iterrows():\n",
    "        # Combine Q + A as text\n",
    "        doc_text = f\"Question: {row['question']}\\nAnswer: {row['answer']}\"\n",
    "\n",
    "        doc_id = f\"faq_{i}\"\n",
    "        meta = {\n",
    "            \"question\": row[\"question\"],\n",
    "            \"answer\": row[\"answer\"],\n",
    "            \"category\": row[\"category\"],\n",
    "        }\n",
    "\n",
    "        all_ids.append(doc_id)\n",
    "        all_documents.append(doc_text)\n",
    "        all_metadatas.append(meta)\n",
    "\n",
    "    collection.add(documents=all_documents, metadatas=all_metadatas, ids=all_ids)\n",
    "    print(f\"Ingested {len(df)} records into {SELECTED_COLLECTION}.\")\n"
   ]
  },
  {
   "cell_type": "code",
   "execution_count": 120,
   "metadata": {},
   "outputs": [
    {
     "name": "stderr",
     "output_type": "stream",
     "text": [
      "Add of existing embedding ID: faq_0\n",
      "Add of existing embedding ID: faq_1\n",
      "Add of existing embedding ID: faq_2\n",
      "Add of existing embedding ID: faq_3\n",
      "Add of existing embedding ID: faq_4\n",
      "Add of existing embedding ID: faq_5\n",
      "Add of existing embedding ID: faq_6\n",
      "Add of existing embedding ID: faq_7\n",
      "Add of existing embedding ID: faq_8\n",
      "Add of existing embedding ID: faq_9\n",
      "Add of existing embedding ID: faq_10\n",
      "Add of existing embedding ID: faq_11\n",
      "Add of existing embedding ID: faq_12\n",
      "Add of existing embedding ID: faq_13\n",
      "Add of existing embedding ID: faq_14\n",
      "Add of existing embedding ID: faq_15\n",
      "Add of existing embedding ID: faq_16\n",
      "Add of existing embedding ID: faq_17\n",
      "Add of existing embedding ID: faq_18\n",
      "Add of existing embedding ID: faq_19\n",
      "Add of existing embedding ID: faq_20\n",
      "Add of existing embedding ID: faq_21\n",
      "Add of existing embedding ID: faq_22\n",
      "Add of existing embedding ID: faq_23\n",
      "Add of existing embedding ID: faq_24\n",
      "Add of existing embedding ID: faq_25\n",
      "Add of existing embedding ID: faq_26\n",
      "Add of existing embedding ID: faq_27\n",
      "Add of existing embedding ID: faq_28\n",
      "Add of existing embedding ID: faq_29\n",
      "Add of existing embedding ID: faq_30\n",
      "Add of existing embedding ID: faq_31\n",
      "Add of existing embedding ID: faq_32\n",
      "Add of existing embedding ID: faq_33\n",
      "Add of existing embedding ID: faq_34\n",
      "Add of existing embedding ID: faq_35\n",
      "Add of existing embedding ID: faq_36\n",
      "Add of existing embedding ID: faq_37\n",
      "Add of existing embedding ID: faq_38\n",
      "Add of existing embedding ID: faq_39\n",
      "Add of existing embedding ID: faq_40\n",
      "Add of existing embedding ID: faq_41\n",
      "Add of existing embedding ID: faq_42\n",
      "Add of existing embedding ID: faq_43\n",
      "Add of existing embedding ID: faq_44\n",
      "Add of existing embedding ID: faq_45\n",
      "Add of existing embedding ID: faq_46\n",
      "Add of existing embedding ID: faq_47\n",
      "Add of existing embedding ID: faq_48\n",
      "Add of existing embedding ID: faq_49\n",
      "Add of existing embedding ID: faq_50\n",
      "Add of existing embedding ID: faq_51\n",
      "Add of existing embedding ID: faq_52\n",
      "Add of existing embedding ID: faq_53\n",
      "Add of existing embedding ID: faq_54\n",
      "Add of existing embedding ID: faq_55\n",
      "Add of existing embedding ID: faq_56\n",
      "Add of existing embedding ID: faq_57\n",
      "Add of existing embedding ID: faq_58\n",
      "Add of existing embedding ID: faq_59\n",
      "Add of existing embedding ID: faq_60\n",
      "Add of existing embedding ID: faq_61\n",
      "Add of existing embedding ID: faq_62\n",
      "Add of existing embedding ID: faq_63\n",
      "Add of existing embedding ID: faq_64\n",
      "Add of existing embedding ID: faq_65\n",
      "Add of existing embedding ID: faq_66\n",
      "Add of existing embedding ID: faq_67\n",
      "Add of existing embedding ID: faq_68\n",
      "Add of existing embedding ID: faq_69\n",
      "Add of existing embedding ID: faq_70\n",
      "Add of existing embedding ID: faq_71\n",
      "Add of existing embedding ID: faq_72\n",
      "Add of existing embedding ID: faq_73\n",
      "Add of existing embedding ID: faq_74\n",
      "Add of existing embedding ID: faq_75\n",
      "Add of existing embedding ID: faq_76\n",
      "Add of existing embedding ID: faq_77\n",
      "Add of existing embedding ID: faq_78\n",
      "Add of existing embedding ID: faq_79\n",
      "Add of existing embedding ID: faq_80\n",
      "Add of existing embedding ID: faq_81\n",
      "Add of existing embedding ID: faq_82\n",
      "Add of existing embedding ID: faq_83\n",
      "Add of existing embedding ID: faq_84\n",
      "Add of existing embedding ID: faq_85\n",
      "Add of existing embedding ID: faq_86\n",
      "Add of existing embedding ID: faq_87\n",
      "Add of existing embedding ID: faq_88\n",
      "Add of existing embedding ID: faq_89\n",
      "Add of existing embedding ID: faq_90\n",
      "Add of existing embedding ID: faq_91\n",
      "Add of existing embedding ID: faq_92\n",
      "Add of existing embedding ID: faq_93\n",
      "Add of existing embedding ID: faq_94\n",
      "Add of existing embedding ID: faq_95\n",
      "Add of existing embedding ID: faq_96\n",
      "Add of existing embedding ID: faq_97\n",
      "Add of existing embedding ID: faq_98\n",
      "Add of existing embedding ID: faq_99\n",
      "Insert of existing embedding ID: faq_0\n",
      "Insert of existing embedding ID: faq_1\n",
      "Insert of existing embedding ID: faq_2\n",
      "Insert of existing embedding ID: faq_3\n",
      "Insert of existing embedding ID: faq_4\n",
      "Insert of existing embedding ID: faq_5\n",
      "Insert of existing embedding ID: faq_6\n",
      "Insert of existing embedding ID: faq_7\n",
      "Insert of existing embedding ID: faq_8\n",
      "Insert of existing embedding ID: faq_9\n",
      "Insert of existing embedding ID: faq_10\n",
      "Insert of existing embedding ID: faq_11\n",
      "Insert of existing embedding ID: faq_12\n",
      "Insert of existing embedding ID: faq_13\n",
      "Insert of existing embedding ID: faq_14\n",
      "Insert of existing embedding ID: faq_15\n",
      "Insert of existing embedding ID: faq_16\n",
      "Insert of existing embedding ID: faq_17\n",
      "Insert of existing embedding ID: faq_18\n",
      "Insert of existing embedding ID: faq_19\n",
      "Insert of existing embedding ID: faq_20\n",
      "Insert of existing embedding ID: faq_21\n",
      "Insert of existing embedding ID: faq_22\n",
      "Insert of existing embedding ID: faq_23\n",
      "Insert of existing embedding ID: faq_24\n",
      "Insert of existing embedding ID: faq_25\n",
      "Insert of existing embedding ID: faq_26\n",
      "Insert of existing embedding ID: faq_27\n",
      "Insert of existing embedding ID: faq_28\n",
      "Insert of existing embedding ID: faq_29\n",
      "Insert of existing embedding ID: faq_30\n",
      "Insert of existing embedding ID: faq_31\n",
      "Insert of existing embedding ID: faq_32\n",
      "Insert of existing embedding ID: faq_33\n",
      "Insert of existing embedding ID: faq_34\n",
      "Insert of existing embedding ID: faq_35\n",
      "Insert of existing embedding ID: faq_36\n",
      "Insert of existing embedding ID: faq_37\n",
      "Insert of existing embedding ID: faq_38\n",
      "Insert of existing embedding ID: faq_39\n",
      "Insert of existing embedding ID: faq_40\n",
      "Insert of existing embedding ID: faq_41\n",
      "Insert of existing embedding ID: faq_42\n",
      "Insert of existing embedding ID: faq_43\n",
      "Insert of existing embedding ID: faq_44\n",
      "Insert of existing embedding ID: faq_45\n",
      "Insert of existing embedding ID: faq_46\n",
      "Insert of existing embedding ID: faq_47\n",
      "Insert of existing embedding ID: faq_48\n",
      "Insert of existing embedding ID: faq_49\n",
      "Insert of existing embedding ID: faq_50\n",
      "Insert of existing embedding ID: faq_51\n",
      "Insert of existing embedding ID: faq_52\n",
      "Insert of existing embedding ID: faq_53\n",
      "Insert of existing embedding ID: faq_54\n",
      "Insert of existing embedding ID: faq_55\n",
      "Insert of existing embedding ID: faq_56\n",
      "Insert of existing embedding ID: faq_57\n",
      "Insert of existing embedding ID: faq_58\n",
      "Insert of existing embedding ID: faq_59\n",
      "Insert of existing embedding ID: faq_60\n",
      "Insert of existing embedding ID: faq_61\n",
      "Insert of existing embedding ID: faq_62\n",
      "Insert of existing embedding ID: faq_63\n",
      "Insert of existing embedding ID: faq_64\n",
      "Insert of existing embedding ID: faq_65\n",
      "Insert of existing embedding ID: faq_66\n",
      "Insert of existing embedding ID: faq_67\n",
      "Insert of existing embedding ID: faq_68\n",
      "Insert of existing embedding ID: faq_69\n",
      "Insert of existing embedding ID: faq_70\n",
      "Insert of existing embedding ID: faq_71\n",
      "Insert of existing embedding ID: faq_72\n",
      "Insert of existing embedding ID: faq_73\n",
      "Insert of existing embedding ID: faq_74\n",
      "Insert of existing embedding ID: faq_75\n",
      "Insert of existing embedding ID: faq_76\n",
      "Insert of existing embedding ID: faq_77\n",
      "Insert of existing embedding ID: faq_78\n",
      "Insert of existing embedding ID: faq_79\n",
      "Insert of existing embedding ID: faq_80\n",
      "Insert of existing embedding ID: faq_81\n",
      "Insert of existing embedding ID: faq_82\n",
      "Insert of existing embedding ID: faq_83\n",
      "Insert of existing embedding ID: faq_84\n",
      "Insert of existing embedding ID: faq_85\n",
      "Insert of existing embedding ID: faq_86\n",
      "Insert of existing embedding ID: faq_87\n",
      "Insert of existing embedding ID: faq_88\n",
      "Insert of existing embedding ID: faq_89\n",
      "Insert of existing embedding ID: faq_90\n",
      "Insert of existing embedding ID: faq_91\n",
      "Insert of existing embedding ID: faq_92\n",
      "Insert of existing embedding ID: faq_93\n",
      "Insert of existing embedding ID: faq_94\n",
      "Insert of existing embedding ID: faq_95\n",
      "Insert of existing embedding ID: faq_96\n",
      "Insert of existing embedding ID: faq_97\n",
      "Insert of existing embedding ID: faq_98\n",
      "Insert of existing embedding ID: faq_99\n"
     ]
    },
    {
     "name": "stdout",
     "output_type": "stream",
     "text": [
      "Ingested 100 records into travel-company-faq.\n"
     ]
    }
   ],
   "source": [
    "ingest_faq_data(df, collection)"
   ]
  },
  {
   "cell_type": "code",
   "execution_count": 121,
   "metadata": {},
   "outputs": [],
   "source": [
    "sample_items = collection.get(include=[\"documents\", \"embeddings\", \"metadatas\"], limit =10)\n"
   ]
  },
  {
   "cell_type": "code",
   "execution_count": 122,
   "metadata": {},
   "outputs": [
    {
     "data": {
      "text/plain": [
       "'Question: What is the maximum baggage allowance for flights to Greece?\\nAnswer: Our standard flights to Greece allow one checked bag up to 23kg plus a carry-on. Overweight fees will apply if you exceed these limits, so we recommend checking with your airline for the most up-to-date details. Additional baggage can be purchased if needed.'"
      ]
     },
     "execution_count": 122,
     "metadata": {},
     "output_type": "execute_result"
    }
   ],
   "source": [
    "sample_items[\"documents\"][0]"
   ]
  },
  {
   "cell_type": "code",
   "execution_count": 123,
   "metadata": {},
   "outputs": [
    {
     "data": {
      "text/plain": [
       "array([ 0.03235516,  0.01945146,  0.01653566, ...,  0.00296376,\n",
       "       -0.00102309, -0.03562905], shape=(1536,))"
      ]
     },
     "execution_count": 123,
     "metadata": {},
     "output_type": "execute_result"
    }
   ],
   "source": [
    "sample_items[\"embeddings\"][0]"
   ]
  },
  {
   "cell_type": "code",
   "execution_count": null,
   "metadata": {},
   "outputs": [],
   "source": [
    "def retrieve_similar_qas(question: str, collection ,n: int = 3,):\n",
    "    \"\"\"\n",
    "    Query the Chroma collection for the n most similar FAQs\n",
    "    to the given user question. Print them out.\n",
    "    \"\"\"\n",
    "\n",
    "    ##TODO: Investidate ChromaDB documentation and evaluate how to extract n_results most similar to query from out selection\n",
    "    ##Then print those texts and distances\n",
    "\n",
    "    results = ....\n",
    "\n",
    "    # 'results' is a dictionary with keys: 'ids', 'embeddings', 'documents', 'metadatas', 'distances'\n",
    "    # Each key returns a list (of length equal to number of queries); here it's 1 for the single query\n",
    "    # So we access results[\"metadatas\"][0] to get the list of top-n metadata items\n",
    "\n",
    "\n",
    "    print(f\"\\nTop {n} similar questions & answers to:\\n\\\"{question}\\\"\\n\")\n",
    "\n",
    "    for i in range(n):\n",
    "        # Retrieve metadata for the ith result\n",
    "        meta = results[\"metadatas\"][0][i]\n",
    "        dist = results[\"distances\"][0][i]  # similarity distance\n",
    "\n",
    "        # Print out relevant fields\n",
    "        print(f\"--- Result #{i+1} ---\")\n",
    "        print(f\"Question: {meta['question']}\")\n",
    "        print(f\"Answer:   {meta['answer']}\")\n",
    "        print(f\"Category: {meta['category']}\")\n",
    "        print(f\"Distance: {dist:.4f}\\n\")\n"
   ]
  },
  {
   "cell_type": "code",
   "execution_count": 48,
   "metadata": {},
   "outputs": [
    {
     "name": "stdout",
     "output_type": "stream",
     "text": [
      "\n",
      "Top 3 similar questions & answers to:\n",
      "\"What is the air travel lost baggage policy??\"\n",
      "\n",
      "--- Result #1 ---\n",
      "Question: How do I file a claim if I lose my luggage?\n",
      "Answer:   First, report the loss to the airline and obtain a Property Irregularity Report (PIR). Then, contact our insurance provider and submit the required documentation, including the PIR and proof of ownership. They will guide you through the claim process.\n",
      "Category: insurance\n",
      "Distance: 0.2969\n",
      "\n",
      "--- Result #2 ---\n",
      "Question: Do airlines charge for checked baggage on trips to Italy?\n",
      "Answer:   Many airlines include at least one free checked bag, but some budget carriers may charge extra. The cost will depend on your specific flight and fare type. Always review baggage details during the booking process to avoid any surprises at the airport.\n",
      "Category: air-travel\n",
      "Distance: 0.3364\n",
      "\n",
      "--- Result #3 ---\n",
      "Question: Does travel insurance cover delayed flights or missed connections?\n",
      "Answer:   Most comprehensive plans offer coverage for trip delays, missed connections, or additional transportation costs due to unforeseen events. You typically need to provide receipts and proof of the delay. Check your policy for the exact criteria and benefit limits.\n",
      "Category: insurance\n",
      "Distance: 0.3636\n",
      "\n"
     ]
    }
   ],
   "source": [
    "question = \"What is the air travel lost baggage policy??\"\n",
    "retrieve_similar_qas(question, collection)"
   ]
  },
  {
   "cell_type": "markdown",
   "metadata": {},
   "source": [
    "## Basic RAG"
   ]
  },
  {
   "cell_type": "code",
   "execution_count": 50,
   "metadata": {},
   "outputs": [],
   "source": [
    "results = collection.query(query_texts=[question], n_results=3)\n",
    "metadatas = results[\"metadatas\"][0]"
   ]
  },
  {
   "cell_type": "code",
   "execution_count": 53,
   "metadata": {},
   "outputs": [
    {
     "data": {
      "text/plain": [
       "['Question: How do I file a claim if I lose my luggage?\\nAnswer: First, report the loss to the airline and obtain a Property Irregularity Report (PIR). Then, contact our insurance provider and submit the required documentation, including the PIR and proof of ownership. They will guide you through the claim process.',\n",
       " 'Question: Do airlines charge for checked baggage on trips to Italy?\\nAnswer: Many airlines include at least one free checked bag, but some budget carriers may charge extra. The cost will depend on your specific flight and fare type. Always review baggage details during the booking process to avoid any surprises at the airport.',\n",
       " 'Question: Does travel insurance cover delayed flights or missed connections?\\nAnswer: Most comprehensive plans offer coverage for trip delays, missed connections, or additional transportation costs due to unforeseen events. You typically need to provide receipts and proof of the delay. Check your policy for the exact criteria and benefit limits.']"
      ]
     },
     "execution_count": 53,
     "metadata": {},
     "output_type": "execute_result"
    }
   ],
   "source": [
    "results[\"documents\"][0]"
   ]
  },
  {
   "cell_type": "code",
   "execution_count": null,
   "metadata": {},
   "outputs": [],
   "source": [
    "\n",
    "results = collection.query(query_texts=[query], n_results=n_results)\n"
   ]
  },
  {
   "cell_type": "code",
   "execution_count": null,
   "metadata": {},
   "outputs": [],
   "source": [
    "def format_context(documents):\n",
    "     ##TODO convert listed documents to context that can be fed to LLM -e.g. text. Recommended splitting docs with html tags\n",
    "    context = \"\"\n",
    "    for i, meta in enumerate(documents):\n",
    "        ...\n",
    "    return context"
   ]
  },
  {
   "cell_type": "code",
   "execution_count": null,
   "metadata": {},
   "outputs": [],
   "source": [
    "\n",
    "def basic_rag_pipeline(query: str, n: int = 5) -> str:\n",
    "    \"\"\"\n",
    "    A minimal RAG-like function.\n",
    "    1) Retrieves the top-n similar Q&As from Chroma.\n",
    "    2) Builds a prompt including the retrieved context.\n",
    "    3) Sends the augmented query to the LLM.\n",
    "    4) Returns the final answer.\n",
    "    \"\"\"\n",
    "\n",
    "    # 1. Retrieve top-n similar Q&As\n",
    "    results = collection.query(query_texts=[query], n_results=n)\n",
    "    documents = results[\"documents\"][0]\n",
    "   \n",
    "    context = format_context(documents)\n",
    "\n",
    "    ##TODO: Create system prompt with context\n",
    "    # 2. Create the system prompt that instructs the model to use the context\n",
    "    system_prompt = ....\n",
    "\n",
    "    # 3. Now make the final call to OpenAI with the user query\n",
    "\n",
    "    response = client.chat.completions.create(\n",
    "        model=\"gpt-4o-mini\",  # Updated to match available models\n",
    "        messages=[\n",
    "            {\"role\": \"system\", \"content\": system_prompt},\n",
    "            {\"role\": \"user\", \"content\": question}\n",
    "        ],\n",
    "        temperature=0,\n",
    "    )\n",
    "\n",
    "    # 4. Extract and return the answer text\n",
    "    answer = response.choices[0].message.content\n",
    "    return answer, context\n"
   ]
  },
  {
   "cell_type": "code",
   "execution_count": 73,
   "metadata": {},
   "outputs": [],
   "source": [
    "answer, context = basic_rag_pipeline(question)"
   ]
  },
  {
   "cell_type": "code",
   "execution_count": 74,
   "metadata": {},
   "outputs": [
    {
     "name": "stdout",
     "output_type": "stream",
     "text": [
      "<Relevant Document #1>\n",
      "Question: How do I file a claim if I lose my luggage?\n",
      "Answer: First, report the loss to the airline and obtain a Property Irregularity Report (PIR). Then, contact our insurance provider and submit the required documentation, including the PIR and proof of ownership. They will guide you through the claim process.\n",
      "</Relevant Document #1>\n",
      "<Relevant Document #2>\n",
      "Question: Do airlines charge for checked baggage on trips to Italy?\n",
      "Answer: Many airlines include at least one free checked bag, but some budget carriers may charge extra. The cost will depend on your specific flight and fare type. Always review baggage details during the booking process to avoid any surprises at the airport.\n",
      "</Relevant Document #2>\n",
      "<Relevant Document #3>\n",
      "Question: Does travel insurance cover delayed flights or missed connections?\n",
      "Answer: Most comprehensive plans offer coverage for trip delays, missed connections, or additional transportation costs due to unforeseen events. You typically need to provide receipts and proof of the delay. Check your policy for the exact criteria and benefit limits.\n",
      "</Relevant Document #3>\n",
      "<Relevant Document #4>\n",
      "Question: What is the maximum baggage allowance for flights to Greece?\n",
      "Answer: Our standard flights to Greece allow one checked bag up to 23kg plus a carry-on. Overweight fees will apply if you exceed these limits, so we recommend checking with your airline for the most up-to-date details. Additional baggage can be purchased if needed.\n",
      "</Relevant Document #4>\n",
      "<Relevant Document #5>\n",
      "Question: What happens if my flight is delayed or canceled due to weather?\n",
      "Answer: If your flight is affected by weather, airlines typically offer rebooking on the next available flight at no additional cost. We also provide assistance with connecting flights and hotel accommodations if necessary. Always contact our support line or the airline directly for further help.\n",
      "</Relevant Document #5>\n",
      "\n"
     ]
    }
   ],
   "source": [
    "print(context)"
   ]
  },
  {
   "cell_type": "code",
   "execution_count": 75,
   "metadata": {},
   "outputs": [
    {
     "name": "stdout",
     "output_type": "stream",
     "text": [
      "The air travel lost baggage policy typically involves the following steps: \n",
      "\n",
      "1. Report the loss to the airline immediately upon realizing your luggage is missing. \n",
      "2. Obtain a Property Irregularity Report (PIR) from the airline, which serves as documentation of the loss.\n",
      "3. Contact your insurance provider (if you have travel insurance) and submit the required documentation, including the PIR and proof of ownership of the lost items.\n",
      "4. Follow the insurance provider's guidance through the claim process.\n",
      "\n",
      "It's important to check with your specific airline for their detailed lost baggage policy, as procedures may vary.\n"
     ]
    }
   ],
   "source": [
    "print(answer)"
   ]
  },
  {
   "cell_type": "markdown",
   "metadata": {},
   "source": [
    "# Rerank answers"
   ]
  },
  {
   "cell_type": "markdown",
   "metadata": {},
   "source": [
    "### How do rerankers work??"
   ]
  },
  {
   "cell_type": "markdown",
   "metadata": {},
   "source": [
    "https://huggingface.co/mixedbread-ai/mxbai-rerank-base-v1"
   ]
  },
  {
   "cell_type": "code",
   "execution_count": 79,
   "metadata": {},
   "outputs": [],
   "source": [
    "from sentence_transformers import CrossEncoder\n",
    "\n",
    "# Load the model, here we use our base sized model\n",
    "model = CrossEncoder(\"mixedbread-ai/mxbai-rerank-xsmall-v1\")\n",
    "\n",
    "\n",
    "# Example query and documents\n",
    "query = \"Who wrote 'To Kill a Mockingbird'?\"\n",
    "documents = [\n",
    "    \"'To Kill a Mockingbird' is a novel by Harper Lee published in 1960. It was immediately successful, winning the Pulitzer Prize, and has become a classic of modern American literature.\",\n",
    "    \"The novel 'Moby-Dick' was written by Herman Melville and first published in 1851. It is considered a masterpiece of American literature and deals with complex themes of obsession, revenge, and the conflict between good and evil.\",\n",
    "    \"Harper Lee, an American novelist widely known for her novel 'To Kill a Mockingbird', was born in 1926 in Monroeville, Alabama. She received the Pulitzer Prize for Fiction in 1961.\",\n",
    "    \"Jane Austen was an English novelist known primarily for her six major novels, which interpret, critique and comment upon the British landed gentry at the end of the 18th century.\",\n",
    "    \"The 'Harry Potter' series, which consists of seven fantasy novels written by British author J.K. Rowling, is among the most popular and critically acclaimed books of the modern era.\",\n",
    "    \"'The Great Gatsby', a novel written by American author F. Scott Fitzgerald, was published in 1925. The story is set in the Jazz Age and follows the life of millionaire Jay Gatsby and his pursuit of Daisy Buchanan.\"\n",
    "]\n",
    "\n",
    "results = model.rank(query, documents, return_documents=True, top_k=3)"
   ]
  },
  {
   "cell_type": "code",
   "execution_count": 124,
   "metadata": {},
   "outputs": [],
   "source": [
    "results = collection.query(query_texts=[query], n_results=10)\n",
    "documents = results[\"documents\"][0]\n",
    "   "
   ]
  },
  {
   "cell_type": "code",
   "execution_count": null,
   "metadata": {},
   "outputs": [],
   "source": [
    "##TODO: Get scores for results of initial RAG\n",
    "results_with_scores = ..."
   ]
  },
  {
   "cell_type": "code",
   "execution_count": 127,
   "metadata": {},
   "outputs": [
    {
     "data": {
      "text/plain": [
       "[{'corpus_id': 0,\n",
       "  'score': np.float32(0.9933727),\n",
       "  'text': 'Question: Does the insurance cover stolen personal belongings?\\nAnswer: Most plans include coverage for theft or loss of personal items up to a certain limit. You will need a police report and proof of ownership for claims. High-value items like electronics may require additional coverage or have specific sub-limits.'},\n",
       " {'corpus_id': 2,\n",
       "  'score': np.float32(0.36291805),\n",
       "  'text': 'Question: How do I file a claim if I lose my luggage?\\nAnswer: First, report the loss to the airline and obtain a Property Irregularity Report (PIR). Then, contact our insurance provider and submit the required documentation, including the PIR and proof of ownership. They will guide you through the claim process.'},\n",
       " {'corpus_id': 4,\n",
       "  'score': np.float32(0.08336872),\n",
       "  'text': 'Question: Is repatriation included if I fall seriously ill abroad?\\nAnswer: Most comprehensive travel insurance policies include repatriation in case of serious illness or injury. This may cover the cost of returning you to your home country under medical supervision. Always check the policy’s limits and exclusions to be sure.'}]"
      ]
     },
     "execution_count": 127,
     "metadata": {},
     "output_type": "execute_result"
    }
   ],
   "source": [
    "results_with_scores"
   ]
  },
  {
   "cell_type": "code",
   "execution_count": null,
   "metadata": {},
   "outputs": [],
   "source": [
    "def rerank_and_limit_context(query, documents, n_items=3, min_score_threshold = 0.5,):\n",
    "    ##TODO: rerank documents and return only these with score above threshold\n",
    "    documents_reranked_with_scores = ...\n",
    "\n",
    "    documents_reranked = ...\n",
    "\n",
    "    return documents_reranked\n"
   ]
  },
  {
   "cell_type": "code",
   "execution_count": 106,
   "metadata": {},
   "outputs": [
    {
     "data": {
      "text/plain": [
       "['Question: Does the insurance cover stolen personal belongings?\\nAnswer: Most plans include coverage for theft or loss of personal items up to a certain limit. You will need a police report and proof of ownership for claims. High-value items like electronics may require additional coverage or have specific sub-limits.']"
      ]
     },
     "execution_count": 106,
     "metadata": {},
     "output_type": "execute_result"
    }
   ],
   "source": [
    "rerank_and_limit_context(query, documents, n_items=3, min_score_threshold = 0.5,)"
   ]
  },
  {
   "cell_type": "code",
   "execution_count": null,
   "metadata": {},
   "outputs": [],
   "source": [
    "\n",
    "def rag_pipeline_with_reranking(query: str, n: int = 5) -> str:\n",
    "    \"\"\"\n",
    "    A minimal RAG-like function.\n",
    "    1) Retrieves the top-n similar Q&As from Chroma.\n",
    "    2) Builds a prompt including the retrieved context.\n",
    "    3) Sends the augmented query to the LLM.\n",
    "    4) Returns the final answer.\n",
    "    \"\"\"\n",
    "\n",
    "    # 1. Retrieve top-n similar Q&As\n",
    "    results = collection.query(query_texts=[query], n_results=n*2)\n",
    "    documents = results[\"documents\"][0]\n",
    "\n",
    "    documents = rerank_and_limit_context(query, documents, n_items=n, min_score_threshold = 0.5,)\n",
    "    \n",
    "    if documents:\n",
    "        context = format_context(documents)\n",
    "    else:\n",
    "        context = \"No relevant documents found for context\"\n",
    "\n",
    "\n",
    "    # 2. Create the system prompt that instructs the model to use the context\n",
    "    system_prompt = f\"\"\"You are a helpful assistant. \n",
    "    Use the following context to answer the user's question. \n",
    "    If the context does not provide enough information, say so.\n",
    "\n",
    "    Context:\n",
    "    {context}\n",
    "    \"\"\"\n",
    "\n",
    "    # 3. Now make the final call to OpenAI with the user query\n",
    "\n",
    "    response = client.chat.completions.create(\n",
    "        model=\"gpt-4o-mini\",  # Updated to match available models\n",
    "        messages=[\n",
    "            {\"role\": \"system\", \"content\": system_prompt},\n",
    "            {\"role\": \"user\", \"content\": question}\n",
    "        ],\n",
    "        temperature=0,\n",
    "    )\n",
    "\n",
    "    # 4. Extract and return the answer text\n",
    "    answer = response.choices[0].message.content\n",
    "    return answer, context"
   ]
  },
  {
   "cell_type": "code",
   "execution_count": null,
   "metadata": {},
   "outputs": [],
   "source": []
  }
 ],
 "metadata": {
  "kernelspec": {
   "display_name": "arisa-genai",
   "language": "python",
   "name": "python3"
  },
  "language_info": {
   "codemirror_mode": {
    "name": "ipython",
    "version": 3
   },
   "file_extension": ".py",
   "mimetype": "text/x-python",
   "name": "python",
   "nbconvert_exporter": "python",
   "pygments_lexer": "ipython3",
   "version": "3.12.9"
  }
 },
 "nbformat": 4,
 "nbformat_minor": 2
}
